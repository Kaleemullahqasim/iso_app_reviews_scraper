{
 "cells": [
  {
   "cell_type": "code",
   "execution_count": null,
   "metadata": {},
   "outputs": [],
   "source": [
    "import csv\n",
    "import pandas as pd\n",
    "from apple_store_scraper import AppStore\n",
    "from concurrent.futures import ThreadPoolExecutor\n",
    "from tenacity import retry, stop_never, wait_exponential, retry_if_exception_type\n",
    "from requests.exceptions import RetryError\n",
    "\n",
    "@retry(stop=stop_never, wait=wait_exponential(multiplier=1, max=600), retry=retry_if_exception_type(RetryError))\n",
    "def get_reviews(app_name, country=\"cn\"):\n",
    "    app = AppStore(country=country, app_name=app_name)\n",
    "    app.review(how_many=200000)\n",
    "    return app.reviews\n",
    "\n",
    "def save_reviews_to_csv(reviews, filename):\n",
    "    df = pd.DataFrame(reviews)\n",
    "    df.to_csv(filename, mode='a', index=False)\n",
    "\n",
    "def process_app(app_name):\n",
    "    try:\n",
    "        reviews = get_reviews(app_name)\n",
    "        save_reviews_to_csv(reviews, f\"{app_name}_reviews.csv\")\n",
    "    except Exception as e:\n",
    "        print(f\"Error processing app {app_name}: {e}\")\n",
    "\n",
    "def main():\n",
    "    app_names = [\"taobao\"]  # Add your app names here\n",
    "    with ThreadPoolExecutor(max_workers=5) as executor:\n",
    "        executor.map(process_app, app_names)\n",
    "\n",
    "if __name__ == \"__main__\":\n",
    "    main()"
   ]
  }
 ],
 "metadata": {
  "kernelspec": {
   "display_name": "Python 3",
   "language": "python",
   "name": "python3"
  },
  "language_info": {
   "codemirror_mode": {
    "name": "ipython",
    "version": 3
   },
   "file_extension": ".py",
   "mimetype": "text/x-python",
   "name": "python",
   "nbconvert_exporter": "python",
   "pygments_lexer": "ipython3",
   "version": "3.11.3"
  },
  "orig_nbformat": 4
 },
 "nbformat": 4,
 "nbformat_minor": 2
}
